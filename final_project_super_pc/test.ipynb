{
 "cells": [
  {
   "cell_type": "code",
   "execution_count": 16,
   "metadata": {},
   "outputs": [],
   "source": [
    "import os\n",
    "# suppress silly log messages from tensorflow\n",
    "os.environ['TF_CPP_MIN_LOG_LEVEL'] = '2'\n",
    "\n",
    "import tensorflow as tf\n",
    "import numpy as np\n",
    "import random\n",
    "import structure_prediction_utils as utils\n",
    "from tensorflow import keras"
   ]
  },
  {
   "cell_type": "code",
   "execution_count": 17,
   "metadata": {},
   "outputs": [
    {
     "name": "stdout",
     "output_type": "stream",
     "text": [
      "Debug info, shape of one data record:\n",
      "evolutionary shape= (5376,)\n",
      "id shape= (1,)\n",
      "primary shape= (256,)\n",
      "tertiary shape= (256, 3)\n",
      "primary_onehot shape= (256, 21)\n",
      "mask shape= (256,)\n",
      "true_distances shape= (256, 256)\n",
      "distance_mask shape= (256, 256)\n",
      "Value info of one data record, structure: tf.Tensor([1806.5  322.7 6882.9], shape=(3,), dtype=float32)\n",
      "Debug info, shape of one data record:\n",
      "evolutionary shape= (5376,)\n",
      "id shape= (1,)\n",
      "primary shape= (256,)\n",
      "tertiary shape= (256, 3)\n",
      "primary_onehot shape= (256, 21)\n",
      "mask shape= (256,)\n",
      "true_distances shape= (256, 256)\n",
      "distance_mask shape= (256, 256)\n",
      "Value info of one data record, structure: tf.Tensor([0. 0. 0.], shape=(3,), dtype=float32)\n",
      "Debug info, shape of one data record:\n",
      "evolutionary shape= (5376,)\n",
      "id shape= (1,)\n",
      "primary shape= (256,)\n",
      "tertiary shape= (256, 3)\n",
      "primary_onehot shape= (256, 21)\n",
      "mask shape= (256,)\n",
      "true_distances shape= (256, 256)\n",
      "distance_mask shape= (256, 256)\n",
      "Value info of one data record, structure: tf.Tensor([0. 0. 0.], shape=(3,), dtype=float32)\n"
     ]
    }
   ],
   "source": [
    "data_folder = 'd:/UC_Master/COSC440/assignment_all/COSC440/final_project/'\n",
    "training_records = utils.load_preprocessed_data(data_folder, 'training.tfr')\n",
    "validate_records = utils.load_preprocessed_data(data_folder, 'validation.tfr')\n",
    "test_records = utils.load_preprocessed_data(data_folder, 'testing.tfr')"
   ]
  },
  {
   "cell_type": "code",
   "execution_count": 18,
   "metadata": {},
   "outputs": [],
   "source": [
    "class ProteinStructurePredictor0(keras.Model):\n",
    "    def __init__(self):\n",
    "        super().__init__()\n",
    "        # self.layer0 = keras.layers.Conv2D(5, 5, activation='gelu', padding=\"same\")\n",
    "        self.layer1 = keras.layers.Conv2D(1, 1, activation='gelu', padding=\"same\")\n",
    "\n",
    "    #@tf.function\n",
    "    def call(self, inputs, mask=None):\n",
    "        primary_one_hot = inputs['primary_onehot']\n",
    "\n",
    "        # outer sum to get a NUM_RESIDUES x NUM_RESIDUES x embedding size\n",
    "        # x = tf.expand_dims(primary_one_hot, -2) + tf.expand_dims(primary_one_hot, -3)\n",
    "\n",
    "        # filter the initial representation into an embedded representation\n",
    "        # x = self.layer0(x)\n",
    "\n",
    "\n",
    "        # add positional distance information\n",
    "        r = tf.range(0, utils.NUM_RESIDUES, dtype=tf.float32)\n",
    "        distances = tf.abs(tf.expand_dims(r, -1) - tf.expand_dims(r, -2))\n",
    "        distances_bc = tf.expand_dims(\n",
    "            tf.broadcast_to(distances, [primary_one_hot.shape[0], utils.NUM_RESIDUES, utils.NUM_RESIDUES]), -1)\n",
    "\n",
    "        # x = tf.concat([x, x * distances_bc, distances_bc], axis=-1)\n",
    "        x = distances_bc\n",
    "        # generate result\n",
    "        x = self.layer1(x)\n",
    "\n",
    "        return x"
   ]
  },
  {
   "cell_type": "code",
   "execution_count": 19,
   "metadata": {},
   "outputs": [],
   "source": [
    "model = ProteinStructurePredictor0()\n",
    "model.optimizer = keras.optimizers.Adam(learning_rate=1e-2)\n",
    "model.batch_size = 1024\n",
    "epochs = 5"
   ]
  },
  {
   "cell_type": "code",
   "execution_count": 20,
   "metadata": {},
   "outputs": [
    {
     "name": "stdout",
     "output_type": "stream",
     "text": [
      "<BatchDataset shapes: {evolutionary: (None, None), id: (None, None), primary: (None, None), tertiary: (None, None, 3), primary_onehot: (None, None, 21), mask: (None, None), true_distances: (None, None, None), distance_mask: (None, None, None)}, types: {evolutionary: tf.float32, id: tf.string, primary: tf.int64, tertiary: tf.float32, primary_onehot: tf.float32, mask: tf.float32, true_distances: tf.float32, distance_mask: tf.float32}>\n"
     ]
    }
   ],
   "source": [
    "epoch_training_records = training_records.shuffle(buffer_size=256).batch(model.batch_size, drop_remainder=False)\n",
    "print(epoch_training_records)"
   ]
  },
  {
   "cell_type": "code",
   "execution_count": 21,
   "metadata": {},
   "outputs": [],
   "source": [
    "def get_n_records(batch):\n",
    "    return batch['primary_onehot'].shape[0]\n",
    "def get_input_output_masks(batch):\n",
    "    inputs = {'primary_onehot':batch['primary_onehot']}\n",
    "    outputs = batch['true_distances']\n",
    "    masks = batch['distance_mask']\n",
    "    return inputs, outputs, masks"
   ]
  },
  {
   "cell_type": "code",
   "execution_count": 22,
   "metadata": {},
   "outputs": [
    {
     "name": "stdout",
     "output_type": "stream",
     "text": [
      "<BatchDataset shapes: {evolutionary: (None, None), id: (None, None), primary: (None, None), tertiary: (None, None, 3), primary_onehot: (None, None, 21), mask: (None, None), true_distances: (None, None, None), distance_mask: (None, None, None)}, types: {evolutionary: tf.float32, id: tf.string, primary: tf.int64, tertiary: tf.float32, primary_onehot: tf.float32, mask: tf.float32, true_distances: tf.float32, distance_mask: tf.float32}>\n"
     ]
    }
   ],
   "source": [
    "print(epoch_training_records)"
   ]
  },
  {
   "cell_type": "code",
   "execution_count": 23,
   "metadata": {},
   "outputs": [
    {
     "name": "stdout",
     "output_type": "stream",
     "text": [
      "----------\n",
      "(1024, 256, 21)\n",
      "(1024, 256, 256)\n",
      "(1024, 256, 256)\n",
      "----------\n",
      "(1024, 256, 21)\n",
      "(1024, 256, 256)\n",
      "(1024, 256, 256)\n",
      "----------\n",
      "(1024, 256, 21)\n",
      "(1024, 256, 256)\n",
      "(1024, 256, 256)\n",
      "----------\n",
      "(1024, 256, 21)\n",
      "(1024, 256, 256)\n",
      "(1024, 256, 256)\n",
      "----------\n",
      "(1024, 256, 21)\n",
      "(1024, 256, 256)\n",
      "(1024, 256, 256)\n",
      "----------\n",
      "(1024, 256, 21)\n",
      "(1024, 256, 256)\n",
      "(1024, 256, 256)\n",
      "----------\n",
      "(1024, 256, 21)\n",
      "(1024, 256, 256)\n",
      "(1024, 256, 256)\n",
      "----------\n",
      "(1024, 256, 21)\n",
      "(1024, 256, 256)\n",
      "(1024, 256, 256)\n",
      "----------\n",
      "(1024, 256, 21)\n",
      "(1024, 256, 256)\n",
      "(1024, 256, 256)\n",
      "----------\n",
      "(1024, 256, 21)\n",
      "(1024, 256, 256)\n",
      "(1024, 256, 256)\n",
      "----------\n",
      "(1024, 256, 21)\n",
      "(1024, 256, 256)\n",
      "(1024, 256, 256)\n",
      "----------\n",
      "(1024, 256, 21)\n",
      "(1024, 256, 256)\n",
      "(1024, 256, 256)\n",
      "----------\n",
      "(736, 256, 21)\n",
      "(736, 256, 256)\n",
      "(736, 256, 256)\n"
     ]
    }
   ],
   "source": [
    "epoch_training_records = training_records.shuffle(buffer_size=256).batch(model.batch_size, drop_remainder=False)\n",
    "i = 0\n",
    "for batch in epoch_training_records:\n",
    "    inputs, labels, masks = get_input_output_masks(batch)\n",
    "    i += 1\n",
    "    print(\"----------\")\n",
    "    print(inputs['primary_onehot'].shape)\n",
    "    print(labels.shape)\n",
    "    print(masks.shape)\n"
   ]
  },
  {
   "cell_type": "code",
   "execution_count": 24,
   "metadata": {},
   "outputs": [
    {
     "name": "stdout",
     "output_type": "stream",
     "text": [
      "13\n",
      "(736, 256, 21)\n",
      "(736, 256, 256)\n",
      "(736, 256, 256)\n"
     ]
    }
   ],
   "source": [
    "print(i)\n",
    "print(inputs['primary_onehot'].shape)\n",
    "print(labels.shape)\n",
    "print(masks.shape)"
   ]
  },
  {
   "cell_type": "code",
   "execution_count": 25,
   "metadata": {},
   "outputs": [
    {
     "name": "stdout",
     "output_type": "stream",
     "text": [
      "(256, 256, 256, 1)\n"
     ]
    }
   ],
   "source": [
    "r = tf.range(0, utils.NUM_RESIDUES, dtype=tf.float32)\n",
    "distances = tf.abs(tf.expand_dims(r, -1) - tf.expand_dims(r, -2))\n",
    "print(distances.shape)\n",
    "distances_bc = tf.expand_dims(\n",
    "    tf.broadcast_to(distances, [256, utils.NUM_RESIDUES, utils.NUM_RESIDUES]), -1)\n",
    "print(distances_bc.shape)"
   ]
  }
 ],
 "metadata": {
  "kernelspec": {
   "display_name": "superpc-tf",
   "language": "python",
   "name": "python3"
  },
  "language_info": {
   "codemirror_mode": {
    "name": "ipython",
    "version": 3
   },
   "file_extension": ".py",
   "mimetype": "text/x-python",
   "name": "python",
   "nbconvert_exporter": "python",
   "pygments_lexer": "ipython3",
   "version": "3.11.10"
  }
 },
 "nbformat": 4,
 "nbformat_minor": 2
}
