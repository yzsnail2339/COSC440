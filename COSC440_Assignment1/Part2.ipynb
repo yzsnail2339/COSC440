{
 "cells": [
  {
   "cell_type": "code",
   "execution_count": 1,
   "metadata": {},
   "outputs": [
    {
     "ename": "ValueError",
     "evalue": "matmul: Input operand 1 has a mismatch in its core dimension 0, with gufunc signature (n?,k),(k,m?)->(n?,m?) (size 10 is different from 784)",
     "output_type": "error",
     "traceback": [
      "\u001b[1;31m---------------------------------------------------------------------------\u001b[0m",
      "\u001b[1;31mValueError\u001b[0m                                Traceback (most recent call last)",
      "\u001b[1;32m~\\AppData\\Local\\Temp\\ipykernel_18368\\4200124593.py\u001b[0m in \u001b[0;36m<module>\u001b[1;34m\u001b[0m\n\u001b[0;32m      2\u001b[0m \u001b[1;32mfrom\u001b[0m \u001b[0mimportlib\u001b[0m \u001b[1;32mimport\u001b[0m \u001b[0mreload\u001b[0m\u001b[1;33m\u001b[0m\u001b[1;33m\u001b[0m\u001b[0m\n\u001b[0;32m      3\u001b[0m \u001b[0mreload\u001b[0m\u001b[1;33m(\u001b[0m\u001b[0massignment\u001b[0m\u001b[1;33m)\u001b[0m\u001b[1;33m\u001b[0m\u001b[1;33m\u001b[0m\u001b[0m\n\u001b[1;32m----> 4\u001b[1;33m \u001b[0massignment\u001b[0m\u001b[1;33m.\u001b[0m\u001b[0mmain\u001b[0m\u001b[1;33m(\u001b[0m\u001b[1;34m\"./MNIST_data\"\u001b[0m\u001b[1;33m)\u001b[0m\u001b[1;33m\u001b[0m\u001b[1;33m\u001b[0m\u001b[0m\n\u001b[0m",
      "\u001b[1;32md:\\UC_Master\\COSC440\\assignment1\\COSC440_Assignment1\\COSC440_Assignment1\\assignment.py\u001b[0m in \u001b[0;36mmain\u001b[1;34m(mnist_data_folder)\u001b[0m\n\u001b[0;32m    173\u001b[0m     \u001b[0mmodel\u001b[0m \u001b[1;33m=\u001b[0m \u001b[0mModel\u001b[0m\u001b[1;33m(\u001b[0m\u001b[1;33m)\u001b[0m\u001b[1;33m\u001b[0m\u001b[1;33m\u001b[0m\u001b[0m\n\u001b[0;32m    174\u001b[0m     \u001b[1;31m# TODO: Train model by calling train() ONCE on all data\u001b[0m\u001b[1;33m\u001b[0m\u001b[1;33m\u001b[0m\u001b[1;33m\u001b[0m\u001b[0m\n\u001b[1;32m--> 175\u001b[1;33m     \u001b[0mtrain\u001b[0m\u001b[1;33m(\u001b[0m\u001b[0mmodel\u001b[0m\u001b[1;33m,\u001b[0m \u001b[0mtrain_inputs\u001b[0m\u001b[1;33m,\u001b[0m \u001b[0mtrain_labels\u001b[0m\u001b[1;33m)\u001b[0m\u001b[1;33m\u001b[0m\u001b[1;33m\u001b[0m\u001b[0m\n\u001b[0m\u001b[0;32m    176\u001b[0m     \u001b[1;31m# TODO: Test the accuracy by calling test() after running train()\u001b[0m\u001b[1;33m\u001b[0m\u001b[1;33m\u001b[0m\u001b[1;33m\u001b[0m\u001b[0m\n\u001b[0;32m    177\u001b[0m     \u001b[0mprint\u001b[0m\u001b[1;33m(\u001b[0m\u001b[1;34m\"train accuracy is \"\u001b[0m\u001b[1;33m,\u001b[0m \u001b[0mtest\u001b[0m\u001b[1;33m(\u001b[0m\u001b[0mmodel\u001b[0m\u001b[1;33m,\u001b[0m \u001b[0mtrain_inputs\u001b[0m\u001b[1;33m,\u001b[0m \u001b[0mtrain_labels\u001b[0m\u001b[1;33m)\u001b[0m\u001b[1;33m)\u001b[0m\u001b[1;33m\u001b[0m\u001b[1;33m\u001b[0m\u001b[0m\n",
      "\u001b[1;32md:\\UC_Master\\COSC440\\assignment1\\COSC440_Assignment1\\COSC440_Assignment1\\assignment.py\u001b[0m in \u001b[0;36mtrain\u001b[1;34m(model, train_inputs, train_labels)\u001b[0m\n\u001b[0;32m    109\u001b[0m \u001b[1;33m\u001b[0m\u001b[0m\n\u001b[0;32m    110\u001b[0m         \u001b[1;31m# TODO: For every batch, compute then descend the gradients for the model's weights\u001b[0m\u001b[1;33m\u001b[0m\u001b[1;33m\u001b[0m\u001b[1;33m\u001b[0m\u001b[0m\n\u001b[1;32m--> 111\u001b[1;33m         \u001b[0mprobabilities\u001b[0m \u001b[1;33m=\u001b[0m \u001b[0mmodel\u001b[0m\u001b[1;33m.\u001b[0m\u001b[0mcall\u001b[0m\u001b[1;33m(\u001b[0m\u001b[0minputs\u001b[0m\u001b[1;33m)\u001b[0m\u001b[1;33m\u001b[0m\u001b[1;33m\u001b[0m\u001b[0m\n\u001b[0m\u001b[0;32m    112\u001b[0m         \u001b[0mgradientsW\u001b[0m\u001b[1;33m,\u001b[0m \u001b[0mgradientsB\u001b[0m \u001b[1;33m=\u001b[0m \u001b[0mmodel\u001b[0m\u001b[1;33m.\u001b[0m\u001b[0mback_propagation\u001b[0m\u001b[1;33m(\u001b[0m\u001b[0minputs\u001b[0m\u001b[1;33m,\u001b[0m \u001b[0mprobabilities\u001b[0m\u001b[1;33m,\u001b[0m \u001b[0mlabels\u001b[0m\u001b[1;33m)\u001b[0m\u001b[1;33m\u001b[0m\u001b[1;33m\u001b[0m\u001b[0m\n\u001b[0;32m    113\u001b[0m         \u001b[0mmodel\u001b[0m\u001b[1;33m.\u001b[0m\u001b[0mgradient_descent\u001b[0m\u001b[1;33m(\u001b[0m\u001b[0mgradientsW\u001b[0m\u001b[1;33m,\u001b[0m \u001b[0mgradientsB\u001b[0m\u001b[1;33m)\u001b[0m\u001b[1;33m\u001b[0m\u001b[1;33m\u001b[0m\u001b[0m\n",
      "\u001b[1;32md:\\UC_Master\\COSC440\\assignment1\\COSC440_Assignment1\\COSC440_Assignment1\\assignment.py\u001b[0m in \u001b[0;36mcall\u001b[1;34m(self, inputs)\u001b[0m\n\u001b[0;32m     35\u001b[0m         \u001b[1;31m# TODO: Write the forward pass logic for your model\u001b[0m\u001b[1;33m\u001b[0m\u001b[1;33m\u001b[0m\u001b[1;33m\u001b[0m\u001b[0m\n\u001b[0;32m     36\u001b[0m         \u001b[1;31m# probabilities = np.dot(np.hstack((inputs, np.ones((inputs.shape[0], 1)))), np.hstack((self.W, self.b)).T)\u001b[0m\u001b[1;33m\u001b[0m\u001b[1;33m\u001b[0m\u001b[1;33m\u001b[0m\u001b[0m\n\u001b[1;32m---> 37\u001b[1;33m         \u001b[0mprobabilities\u001b[0m \u001b[1;33m=\u001b[0m \u001b[0minputs\u001b[0m \u001b[1;33m@\u001b[0m \u001b[0mself\u001b[0m\u001b[1;33m.\u001b[0m\u001b[0mW\u001b[0m \u001b[1;33m+\u001b[0m \u001b[0mself\u001b[0m\u001b[1;33m.\u001b[0m\u001b[0mb\u001b[0m\u001b[1;33m\u001b[0m\u001b[1;33m\u001b[0m\u001b[0m\n\u001b[0m\u001b[0;32m     38\u001b[0m         \u001b[1;32mreturn\u001b[0m \u001b[0mprobabilities\u001b[0m\u001b[1;33m\u001b[0m\u001b[1;33m\u001b[0m\u001b[0m\n\u001b[0;32m     39\u001b[0m \u001b[1;33m\u001b[0m\u001b[0m\n",
      "\u001b[1;31mValueError\u001b[0m: matmul: Input operand 1 has a mismatch in its core dimension 0, with gufunc signature (n?,k),(k,m?)->(n?,m?) (size 10 is different from 784)"
     ]
    }
   ],
   "source": [
    "import assignment\n",
    "from importlib import reload\n",
    "reload(assignment)\n",
    "assignment.main(\"./MNIST_data\")"
   ]
  },
  {
   "cell_type": "code",
   "execution_count": 1,
   "metadata": {},
   "outputs": [
    {
     "name": "stderr",
     "output_type": "stream",
     "text": [
      "...\n",
      "----------------------------------------------------------------------\n",
      "Ran 3 tests in 0.005s\n",
      "\n",
      "OK\n"
     ]
    },
    {
     "data": {
      "text/plain": [
       "<unittest.main.TestProgram at 0x20fbecd3188>"
      ]
     },
     "execution_count": 1,
     "metadata": {},
     "output_type": "execute_result"
    }
   ],
   "source": [
    "import unittest\n",
    "unittest.main(module='assignment_tests', argv=[''], exit=False)"
   ]
  },
  {
   "cell_type": "code",
   "execution_count": null,
   "metadata": {},
   "outputs": [],
   "source": [
    "from preprocess import get_data\n",
    "import numpy as np\n",
    "mnist_data_folder = \"./MNIST_data\"\n",
    "train_inputs_path = f'{mnist_data_folder}/train-images-idx3-ubyte.gz'\n",
    "train_labels_path = f'{mnist_data_folder}/train-labels-idx1-ubyte.gz'\n",
    "train_inputs, train_labels = get_data(train_inputs_path,train_labels_path, 60000)\n",
    "print(train_inputs, train_labels)\n",
    "model = assignment.Model()\n",
    "print(model.input_size)\n",
    "inputs = train_inputs[0:0+model.batch_size]\n",
    "outputs = np.dot(np.hstack((inputs, np.ones((model.batch_size, 1)))), np.hstack((model.W, model.b)).T)\n",
    "# inputs_with_bias = np.hstack((inputs, np.ones((inputs.shape[0], 1))))\n",
    "# print(inputs_with_bias.shape)\n",
    "# weights_with_bias = np.hstack((model.W, model.b))\n",
    "# print(weights_with_bias.shape)\n",
    "# output = np.dot(inputs_with_bias, weights_with_bias.T)\n",
    "# print(output.shape)"
   ]
  },
  {
   "cell_type": "code",
   "execution_count": null,
   "metadata": {},
   "outputs": [],
   "source": [
    "from assignment import *\n",
    "# model = Model()\n",
    "# a_one = np.ones((1,784),dtype=np.float32) # let's call this a 1\n",
    "# a_zero = np.zeros((1,784),dtype=np.float32) # let's call this a 0\n",
    "# output = model.call(a_one)\n",
    "# # output should still be all zeros\n",
    "# print(np.sum(output), 0, \"weights and bias should be 0 to start\")\n",
    "# # which means argmax would just return 0 which is a 1 which is incorrect\n",
    "# gradW, gradB = model.back_propagation(a_one, output, np.array([1]))\n",
    "# if gradB.ndim == 2:\n",
    "#     # for testing purposes reduce this\n",
    "#     gradB = gradB.squeeze()\n",
    "# print(gradW[0,:])\n",
    "# np.all(gradW[0,:]==-1)\n",
    "\n",
    "model = Model()\n",
    "a_one = np.ones((1,784),dtype=np.float32) # let's call this a 1\n",
    "a_zero = np.zeros((1,784),dtype=np.float32) # let's call this a 0\n",
    "both = np.append(a_one, a_zero, axis=0)\n",
    "output = model.call(both)\n",
    "gradW, gradB = model.back_propagation(both, output, np.array([1,0]))\n",
    "print(gradW[0,:])"
   ]
  },
  {
   "cell_type": "code",
   "execution_count": null,
   "metadata": {},
   "outputs": [],
   "source": [
    "import numpy as np\n",
    "\n",
    "aa = np.array([1, 3, 2, 4])\n",
    "bb = np.array([1, 2, 4, 3])\n",
    "\n",
    "# 使用布尔索引进行条件操作\n",
    "mask_equal = aa[:, np.newaxis] == bb\n",
    "\n",
    "print(mask_equal)\n"
   ]
  },
  {
   "cell_type": "code",
   "execution_count": null,
   "metadata": {},
   "outputs": [],
   "source": [
    "import numpy as np\n",
    "aa = np.array([1,3,2])\n",
    "np.eye(5)[aa]"
   ]
  }
 ],
 "metadata": {
  "kernelspec": {
   "display_name": "yzsnail",
   "language": "python",
   "name": "python3"
  },
  "language_info": {
   "codemirror_mode": {
    "name": "ipython",
    "version": 3
   },
   "file_extension": ".py",
   "mimetype": "text/x-python",
   "name": "python",
   "nbconvert_exporter": "python",
   "pygments_lexer": "ipython3",
   "version": "3.7.12"
  }
 },
 "nbformat": 4,
 "nbformat_minor": 2
}
