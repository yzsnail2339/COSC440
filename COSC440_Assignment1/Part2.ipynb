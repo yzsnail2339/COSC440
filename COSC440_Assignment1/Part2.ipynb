{
 "cells": [
  {
   "cell_type": "code",
   "execution_count": null,
   "metadata": {},
   "outputs": [],
   "source": [
    "import assignment\n",
    "from importlib import reload\n",
    "reload(assignment)\n",
    "assignment.main(\"./MNIST_data\")"
   ]
  },
  {
   "cell_type": "code",
   "execution_count": null,
   "metadata": {},
   "outputs": [],
   "source": [
    "import unittest\n",
    "unittest.main(module='assignment_tests', argv=[''], exit=False)"
   ]
  },
  {
   "cell_type": "code",
   "execution_count": null,
   "metadata": {},
   "outputs": [],
   "source": [
    "from preprocess import get_data\n",
    "import numpy as np\n",
    "mnist_data_folder = \"./MNIST_data\"\n",
    "train_inputs_path = f'{mnist_data_folder}/train-images-idx3-ubyte.gz'\n",
    "train_labels_path = f'{mnist_data_folder}/train-labels-idx1-ubyte.gz'\n",
    "train_inputs, train_labels = get_data(train_inputs_path,train_labels_path, 60000)\n",
    "print(train_inputs, train_labels)\n",
    "model = assignment.Model()\n",
    "print(model.input_size)\n",
    "inputs = train_inputs[0:0+model.batch_size]\n",
    "outputs = np.dot(np.hstack((inputs, np.ones((model.batch_size, 1)))), np.hstack((model.W, model.b)).T)\n",
    "# inputs_with_bias = np.hstack((inputs, np.ones((inputs.shape[0], 1))))\n",
    "# print(inputs_with_bias.shape)\n",
    "# weights_with_bias = np.hstack((model.W, model.b))\n",
    "# print(weights_with_bias.shape)\n",
    "# output = np.dot(inputs_with_bias, weights_with_bias.T)\n",
    "# print(output.shape)"
   ]
  },
  {
   "cell_type": "code",
   "execution_count": null,
   "metadata": {},
   "outputs": [],
   "source": [
    "from assignment import *\n",
    "# model = Model()\n",
    "# a_one = np.ones((1,784),dtype=np.float32) # let's call this a 1\n",
    "# a_zero = np.zeros((1,784),dtype=np.float32) # let's call this a 0\n",
    "# output = model.call(a_one)\n",
    "# # output should still be all zeros\n",
    "# print(np.sum(output), 0, \"weights and bias should be 0 to start\")\n",
    "# # which means argmax would just return 0 which is a 1 which is incorrect\n",
    "# gradW, gradB = model.back_propagation(a_one, output, np.array([1]))\n",
    "# if gradB.ndim == 2:\n",
    "#     # for testing purposes reduce this\n",
    "#     gradB = gradB.squeeze()\n",
    "# print(gradW[0,:])\n",
    "# np.all(gradW[0,:]==-1)\n",
    "\n",
    "model = Model()\n",
    "a_one = np.ones((1,784),dtype=np.float32) # let's call this a 1\n",
    "a_zero = np.zeros((1,784),dtype=np.float32) # let's call this a 0\n",
    "both = np.append(a_one, a_zero, axis=0)\n",
    "output = model.call(both)\n",
    "gradW, gradB = model.back_propagation(both, output, np.array([1,0]))\n",
    "print(gradW[0,:])"
   ]
  },
  {
   "cell_type": "code",
   "execution_count": 1,
   "metadata": {},
   "outputs": [
    {
     "name": "stdout",
     "output_type": "stream",
     "text": [
      "[[ True]\n",
      " [ True]\n",
      " [ True]\n",
      " [ True]]\n"
     ]
    }
   ],
   "source": [
    "import numpy as np\n",
    "\n",
    "aa = np.array([[1], [3], [2], [4]])\n",
    "bb = aa\n",
    "mask_equal = aa ==bb\n",
    "\n",
    "\n",
    "print(sum(mask_equal))\n"
   ]
  },
  {
   "cell_type": "code",
   "execution_count": null,
   "metadata": {},
   "outputs": [],
   "source": [
    "import numpy as np\n",
    "aa = np.array([1,3,2])\n",
    "np.eye(5)[aa]"
   ]
  }
 ],
 "metadata": {
  "kernelspec": {
   "display_name": "yzsnail",
   "language": "python",
   "name": "python3"
  },
  "language_info": {
   "codemirror_mode": {
    "name": "ipython",
    "version": 3
   },
   "file_extension": ".py",
   "mimetype": "text/x-python",
   "name": "python",
   "nbconvert_exporter": "python",
   "pygments_lexer": "ipython3",
   "version": "3.7.12"
  }
 },
 "nbformat": 4,
 "nbformat_minor": 2
}
