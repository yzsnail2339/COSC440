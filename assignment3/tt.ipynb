{
 "cells": [
  {
   "cell_type": "code",
   "execution_count": 1,
   "metadata": {},
   "outputs": [
    {
     "name": "stdout",
     "output_type": "stream",
     "text": [
      "2.4.0\n",
      "GPU Available:  [PhysicalDevice(name='/physical_device:GPU:0', device_type='GPU')]\n"
     ]
    }
   ],
   "source": [
    "import tensorflow as tf\n",
    "import numpy as np\n",
    "\n",
    "tf.random.set_seed(1337)  # setting seed for later part of assignment. DO NOT CHANGE\n",
    "\n",
    "print(tf.__version__)\n",
    "print(\"GPU Available: \", tf.config.list_physical_devices('GPU'))"
   ]
  },
  {
   "cell_type": "code",
   "execution_count": 7,
   "metadata": {},
   "outputs": [
    {
     "name": "stdout",
     "output_type": "stream",
     "text": [
      "Output shape: (1, 32, 32, 8)\n"
     ]
    }
   ],
   "source": [
    "import tensorflow as tf\n",
    "\n",
    "# 定义一个简单的模型，包含 Conv2DTranspose 层\n",
    "def test_conv2d_transpose_keras():\n",
    "    # 定义输入张量的形状 (batch_size, height, width, channels)\n",
    "    input_tensor = tf.random.normal([1, 16, 16, 16])\n",
    "\n",
    "    # 创建 Conv2DTranspose 层\n",
    "    deconv_layer = tf.keras.layers.Conv2DTranspose(\n",
    "            filters=8,\n",
    "            kernel_size=3,\n",
    "            strides=2,\n",
    "            padding='same',\n",
    "            kernel_initializer=tf.keras.initializers.RandomNormal(stddev=0.1),\n",
    "            activation=tf.keras.layers.LeakyReLU(alpha=0.2)\n",
    "        )\n",
    "\n",
    "    # 将输入张量传递给 Conv2DTranspose 层\n",
    "    deconv_output = deconv_layer(input_tensor)\n",
    "\n",
    "    return deconv_output\n",
    "\n",
    "# 运行测试\n",
    "output = test_conv2d_transpose_keras()\n",
    "print(\"Output shape:\", output.shape)\n"
   ]
  }
 ],
 "metadata": {
  "kernelspec": {
   "display_name": "yzsnail",
   "language": "python",
   "name": "python3"
  },
  "language_info": {
   "codemirror_mode": {
    "name": "ipython",
    "version": 3
   },
   "file_extension": ".py",
   "mimetype": "text/x-python",
   "name": "python",
   "nbconvert_exporter": "python",
   "pygments_lexer": "ipython3",
   "version": "3.7.12"
  }
 },
 "nbformat": 4,
 "nbformat_minor": 2
}
